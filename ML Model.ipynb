{
 "cells": [
  {
   "cell_type": "code",
   "execution_count": 1,
   "metadata": {
    "collapsed": false
   },
   "outputs": [
    {
     "name": "stderr",
     "output_type": "stream",
     "text": [
      "//anaconda/lib/python2.7/site-packages/sklearn/cross_validation.py:44: DeprecationWarning: This module was deprecated in version 0.18 in favor of the model_selection module into which all the refactored classes and functions are moved. Also note that the interface of the new CV iterators are different from that of this module. This module will be removed in 0.20.\n",
      "  \"This module will be removed in 0.20.\", DeprecationWarning)\n",
      "//anaconda/lib/python2.7/site-packages/sklearn/grid_search.py:43: DeprecationWarning: This module was deprecated in version 0.18 in favor of the model_selection module into which all the refactored classes and functions are moved. This module will be removed in 0.20.\n",
      "  DeprecationWarning)\n"
     ]
    }
   ],
   "source": [
    "import os\n",
    "import numpy as np\n",
    "import pandas as pd\n",
    "import xgboost as xgb\n",
    "import sklearn\n",
    "from sklearn.externals import joblib\n",
    "from sklearn.linear_model import LassoCV\n",
    "from sklearn.metrics import roc_auc_score\n",
    "from sklearn.naive_bayes import BernoulliNB\n",
    "from sklearn.grid_search import GridSearchCV\n",
    "from sklearn.metrics import confusion_matrix\n",
    "from sklearn.model_selection import train_test_split\n",
    "\n",
    "%matplotlib inline"
   ]
  },
  {
   "cell_type": "code",
   "execution_count": 2,
   "metadata": {
    "collapsed": true
   },
   "outputs": [],
   "source": [
    "pth = './datafiles/'\n",
    "inputfile = 'data'\n",
    "colfile = 'column.names.txt'"
   ]
  },
  {
   "cell_type": "code",
   "execution_count": 3,
   "metadata": {
    "collapsed": false
   },
   "outputs": [
    {
     "name": "stderr",
     "output_type": "stream",
     "text": [
      "//anaconda/lib/python2.7/site-packages/IPython/core/interactiveshell.py:2717: DtypeWarning: Columns (3) have mixed types. Specify dtype option on import or set low_memory=False.\n",
      "  interactivity=interactivity, compiler=compiler, result=result)\n"
     ]
    }
   ],
   "source": [
    "df1 = pd.read_csv(os.path.join(pth, inputfile), header=None)\n",
    "df2 = pd.read_csv(os.path.join(pth, colfile), sep=\":\", skiprows=0)\n",
    "df2 = df2.reset_index()\n",
    "df2.columns = ['variable', 'type']"
   ]
  },
  {
   "cell_type": "code",
   "execution_count": 4,
   "metadata": {
    "collapsed": false
   },
   "outputs": [],
   "source": [
    "df1.columns = df2['variable'].tolist() + ['ad']"
   ]
  },
  {
   "cell_type": "code",
   "execution_count": 5,
   "metadata": {
    "collapsed": false,
    "scrolled": true
   },
   "outputs": [],
   "source": [
    "for col in df1.columns:\n",
    "    if df1[col].dtype not in (float, int) and col!='ad':\n",
    "        df1.ix[df1[col].str.strip()=='?', col] = np.nan\n",
    "        df1[col] = df1[col].astype(float)"
   ]
  },
  {
   "cell_type": "code",
   "execution_count": 6,
   "metadata": {
    "collapsed": false
   },
   "outputs": [],
   "source": [
    "rans = np.random.rand(df1.shape[0]) \n",
    "trainfilt = rans <= 0.33\n",
    "validfilt = (rans > 0.33) & (rans <= 0.66)\n",
    "testfilt = rans > 0.66"
   ]
  },
  {
   "cell_type": "code",
   "execution_count": 7,
   "metadata": {
    "collapsed": true
   },
   "outputs": [],
   "source": [
    "for col in df1.columns:\n",
    "    if df1[col].dtype in (float, int) and col!='ad':\n",
    "        df1[col+'missing'] = df1[col].isnull().astype(int)\n",
    "        if df1[col].nunique() ==2:\n",
    "            df1[col] = df1[col].fillna(0)\n",
    "        else:\n",
    "            meanval = df1.ix[df1[col].notnull() & trainfilt, col].mean()\n",
    "            df1[col] = df1[col].fillna(meanval)\n",
    "\n",
    "meanvals = df1[trainfilt].describe()\n",
    "meanvals.to_csv('./inputmeanvalues.csv', index=False)"
   ]
  },
  {
   "cell_type": "code",
   "execution_count": 13,
   "metadata": {
    "collapsed": false
   },
   "outputs": [],
   "source": [
    "meanvals.to_csv('./inputmeanvalues.csv')"
   ]
  },
  {
   "cell_type": "code",
   "execution_count": 16,
   "metadata": {
    "collapsed": true
   },
   "outputs": [],
   "source": [
    "meanvals = pd.read_csv('./inputmeanvalues.csv', index_col=0)"
   ]
  },
  {
   "cell_type": "code",
   "execution_count": 18,
   "metadata": {
    "collapsed": false
   },
   "outputs": [
    {
     "data": {
      "text/html": [
       "<div>\n",
       "<table border=\"1\" class=\"dataframe\">\n",
       "  <thead>\n",
       "    <tr style=\"text-align: right;\">\n",
       "      <th></th>\n",
       "      <th>height</th>\n",
       "      <th>width</th>\n",
       "      <th>aratio</th>\n",
       "      <th>local</th>\n",
       "      <th>url*images+buttons</th>\n",
       "      <th>url*likesbooks.com</th>\n",
       "      <th>url*www.slake.com</th>\n",
       "      <th>url*hydrogeologist</th>\n",
       "      <th>url*oso</th>\n",
       "      <th>url*media</th>\n",
       "      <th>...</th>\n",
       "      <th>caption*ofmissing</th>\n",
       "      <th>caption*homemissing</th>\n",
       "      <th>caption*mymissing</th>\n",
       "      <th>caption*yourmissing</th>\n",
       "      <th>caption*inmissing</th>\n",
       "      <th>caption*bytesmissing</th>\n",
       "      <th>caption*heremissing</th>\n",
       "      <th>caption*clickmissing</th>\n",
       "      <th>caption*formissing</th>\n",
       "      <th>caption*youmissing</th>\n",
       "    </tr>\n",
       "  </thead>\n",
       "  <tbody>\n",
       "    <tr>\n",
       "      <th>count</th>\n",
       "      <td>1074.000000</td>\n",
       "      <td>1074.000000</td>\n",
       "      <td>1074.000000</td>\n",
       "      <td>1074.000000</td>\n",
       "      <td>1074.000000</td>\n",
       "      <td>1074.000000</td>\n",
       "      <td>1074.000000</td>\n",
       "      <td>1074.000000</td>\n",
       "      <td>1074.000000</td>\n",
       "      <td>1074.000000</td>\n",
       "      <td>...</td>\n",
       "      <td>1074</td>\n",
       "      <td>1074</td>\n",
       "      <td>1074</td>\n",
       "      <td>1074</td>\n",
       "      <td>1074</td>\n",
       "      <td>1074</td>\n",
       "      <td>1074</td>\n",
       "      <td>1074</td>\n",
       "      <td>1074</td>\n",
       "      <td>1074</td>\n",
       "    </tr>\n",
       "    <tr>\n",
       "      <th>mean</th>\n",
       "      <td>65.320051</td>\n",
       "      <td>155.861716</td>\n",
       "      <td>3.922461</td>\n",
       "      <td>0.772812</td>\n",
       "      <td>0.006518</td>\n",
       "      <td>0.007449</td>\n",
       "      <td>0.004655</td>\n",
       "      <td>0.002793</td>\n",
       "      <td>0.004655</td>\n",
       "      <td>0.012104</td>\n",
       "      <td>...</td>\n",
       "      <td>0</td>\n",
       "      <td>0</td>\n",
       "      <td>0</td>\n",
       "      <td>0</td>\n",
       "      <td>0</td>\n",
       "      <td>0</td>\n",
       "      <td>0</td>\n",
       "      <td>0</td>\n",
       "      <td>0</td>\n",
       "      <td>0</td>\n",
       "    </tr>\n",
       "    <tr>\n",
       "      <th>std</th>\n",
       "      <td>45.197272</td>\n",
       "      <td>108.099162</td>\n",
       "      <td>5.010114</td>\n",
       "      <td>0.419210</td>\n",
       "      <td>0.080506</td>\n",
       "      <td>0.086024</td>\n",
       "      <td>0.068104</td>\n",
       "      <td>0.052802</td>\n",
       "      <td>0.068104</td>\n",
       "      <td>0.109403</td>\n",
       "      <td>...</td>\n",
       "      <td>0</td>\n",
       "      <td>0</td>\n",
       "      <td>0</td>\n",
       "      <td>0</td>\n",
       "      <td>0</td>\n",
       "      <td>0</td>\n",
       "      <td>0</td>\n",
       "      <td>0</td>\n",
       "      <td>0</td>\n",
       "      <td>0</td>\n",
       "    </tr>\n",
       "    <tr>\n",
       "      <th>min</th>\n",
       "      <td>10.000000</td>\n",
       "      <td>10.000000</td>\n",
       "      <td>0.214200</td>\n",
       "      <td>0.000000</td>\n",
       "      <td>0.000000</td>\n",
       "      <td>0.000000</td>\n",
       "      <td>0.000000</td>\n",
       "      <td>0.000000</td>\n",
       "      <td>0.000000</td>\n",
       "      <td>0.000000</td>\n",
       "      <td>...</td>\n",
       "      <td>0</td>\n",
       "      <td>0</td>\n",
       "      <td>0</td>\n",
       "      <td>0</td>\n",
       "      <td>0</td>\n",
       "      <td>0</td>\n",
       "      <td>0</td>\n",
       "      <td>0</td>\n",
       "      <td>0</td>\n",
       "      <td>0</td>\n",
       "    </tr>\n",
       "    <tr>\n",
       "      <th>25%</th>\n",
       "      <td>33.000000</td>\n",
       "      <td>94.000000</td>\n",
       "      <td>1.250000</td>\n",
       "      <td>1.000000</td>\n",
       "      <td>0.000000</td>\n",
       "      <td>0.000000</td>\n",
       "      <td>0.000000</td>\n",
       "      <td>0.000000</td>\n",
       "      <td>0.000000</td>\n",
       "      <td>0.000000</td>\n",
       "      <td>...</td>\n",
       "      <td>0</td>\n",
       "      <td>0</td>\n",
       "      <td>0</td>\n",
       "      <td>0</td>\n",
       "      <td>0</td>\n",
       "      <td>0</td>\n",
       "      <td>0</td>\n",
       "      <td>0</td>\n",
       "      <td>0</td>\n",
       "      <td>0</td>\n",
       "    </tr>\n",
       "  </tbody>\n",
       "</table>\n",
       "<p>5 rows × 3116 columns</p>\n",
       "</div>"
      ],
      "text/plain": [
       "            height        width       aratio        local  url*images+buttons  \\\n",
       "count  1074.000000  1074.000000  1074.000000  1074.000000         1074.000000   \n",
       "mean     65.320051   155.861716     3.922461     0.772812            0.006518   \n",
       "std      45.197272   108.099162     5.010114     0.419210            0.080506   \n",
       "min      10.000000    10.000000     0.214200     0.000000            0.000000   \n",
       "25%      33.000000    94.000000     1.250000     1.000000            0.000000   \n",
       "\n",
       "       url*likesbooks.com  url*www.slake.com  url*hydrogeologist      url*oso  \\\n",
       "count         1074.000000        1074.000000         1074.000000  1074.000000   \n",
       "mean             0.007449           0.004655            0.002793     0.004655   \n",
       "std              0.086024           0.068104            0.052802     0.068104   \n",
       "min              0.000000           0.000000            0.000000     0.000000   \n",
       "25%              0.000000           0.000000            0.000000     0.000000   \n",
       "\n",
       "         url*media         ...          caption*ofmissing  \\\n",
       "count  1074.000000         ...                       1074   \n",
       "mean      0.012104         ...                          0   \n",
       "std       0.109403         ...                          0   \n",
       "min       0.000000         ...                          0   \n",
       "25%       0.000000         ...                          0   \n",
       "\n",
       "       caption*homemissing  caption*mymissing  caption*yourmissing  \\\n",
       "count                 1074               1074                 1074   \n",
       "mean                     0                  0                    0   \n",
       "std                      0                  0                    0   \n",
       "min                      0                  0                    0   \n",
       "25%                      0                  0                    0   \n",
       "\n",
       "       caption*inmissing  caption*bytesmissing  caption*heremissing  \\\n",
       "count               1074                  1074                 1074   \n",
       "mean                   0                     0                    0   \n",
       "std                    0                     0                    0   \n",
       "min                    0                     0                    0   \n",
       "25%                    0                     0                    0   \n",
       "\n",
       "       caption*clickmissing  caption*formissing  caption*youmissing  \n",
       "count                  1074                1074                1074  \n",
       "mean                      0                   0                   0  \n",
       "std                       0                   0                   0  \n",
       "min                       0                   0                   0  \n",
       "25%                       0                   0                   0  \n",
       "\n",
       "[5 rows x 3116 columns]"
      ]
     },
     "execution_count": 18,
     "metadata": {},
     "output_type": "execute_result"
    }
   ],
   "source": [
    "meanvals.head()"
   ]
  },
  {
   "cell_type": "code",
   "execution_count": 8,
   "metadata": {
    "collapsed": false
   },
   "outputs": [],
   "source": [
    "ys = (df1['ad'].str.strip() == 'ad.' ).astype(int).values\n",
    "xcols = [col for col in df1.columns if col !='ad']\n",
    "X_train, X_valid, X_test = df1.ix[trainfilt, xcols].values, df1.ix[validfilt, xcols].values, df1.ix[testfilt, xcols].values\n",
    "y_train, y_valid, y_test = ys[trainfilt], ys[validfilt], ys[testfilt]"
   ]
  },
  {
   "cell_type": "code",
   "execution_count": 9,
   "metadata": {
    "collapsed": false
   },
   "outputs": [
    {
     "name": "stdout",
     "output_type": "stream",
     "text": [
      "Fitting 3 folds for each of 12 candidates, totalling 36 fits\n"
     ]
    },
    {
     "name": "stderr",
     "output_type": "stream",
     "text": [
      "[Parallel(n_jobs=1)]: Done  36 out of  36 | elapsed:   25.7s finished\n"
     ]
    },
    {
     "name": "stdout",
     "output_type": "stream",
     "text": [
      "0.967619047619\n",
      "{'n_estimators': 100, 'max_depth': 6}\n"
     ]
    }
   ],
   "source": [
    "xgbmodel = GridSearchCV(xgb.XGBClassifier(),\n",
    "                   {'max_depth': [1, 2, 4, 6],\n",
    "                    'n_estimators': [10, 50, 100]}, verbose=1)\n",
    "xgbmodel.fit(X_train, y_train)\n",
    "print(xgbmodel.best_score_)\n",
    "print(xgbmodel.best_params_)"
   ]
  },
  {
   "cell_type": "code",
   "execution_count": 10,
   "metadata": {
    "collapsed": false,
    "scrolled": true
   },
   "outputs": [],
   "source": [
    "xgbpred = xgbmodel.predict(X_train)\n",
    "xgbproba = 1/ (1. + np.exp( - xgbmodel.predict(X_train) ))\n",
    "\n",
    "xgbpredvalid = xgbmodel.predict(X_valid)\n",
    "xgbprobavalid = 1/ (1. + np.exp( - xgbmodel.predict(X_valid) ))"
   ]
  },
  {
   "cell_type": "code",
   "execution_count": 11,
   "metadata": {
    "collapsed": false
   },
   "outputs": [
    {
     "data": {
      "text/plain": [
       "LassoCV(alphas=None, copy_X=True, cv=None, eps=0.001, fit_intercept=True,\n",
       "    max_iter=1000, n_alphas=100, n_jobs=1, normalize=False, positive=False,\n",
       "    precompute='auto', random_state=None, selection='cyclic', tol=0.0001,\n",
       "    verbose=False)"
      ]
     },
     "execution_count": 11,
     "metadata": {},
     "output_type": "execute_result"
    }
   ],
   "source": [
    "glmmodel  = LassoCV()\n",
    "glmmodel.fit(X_train, y_train)"
   ]
  },
  {
   "cell_type": "code",
   "execution_count": 12,
   "metadata": {
    "collapsed": false
   },
   "outputs": [],
   "source": [
    "glmpred = glmmodel.predict(X_train)\n",
    "glmproba = 1/ (1. + np.exp( - glmpred ))\n",
    "\n",
    "glmpredvalid = glmmodel.predict(X_valid)\n",
    "glmprobavalid = 1/ (1. + np.exp( - glmpredvalid ))"
   ]
  },
  {
   "cell_type": "code",
   "execution_count": 9,
   "metadata": {
    "collapsed": false
   },
   "outputs": [
    {
     "data": {
      "text/plain": [
       "BernoulliNB(alpha=1.0, binarize=0.0, class_prior=None, fit_prior=True)"
      ]
     },
     "execution_count": 9,
     "metadata": {},
     "output_type": "execute_result"
    }
   ],
   "source": [
    "nbmodel = BernoulliNB() \n",
    "nbmodel.fit(X_train, y_train)"
   ]
  },
  {
   "cell_type": "code",
   "execution_count": 10,
   "metadata": {
    "collapsed": false
   },
   "outputs": [],
   "source": [
    "nbclass = nbmodel.predict(X_train)  \n",
    "nbclassvalid = nbmodel.predict(X_valid)\n",
    "nbclasstest = nbmodel.predict(X_test)\n",
    "\n",
    "nbproba = nbmodel.predict_proba(X_train)[:,1]\n",
    "nbprobavalid = nbmodel.predict_proba(X_valid)[:,1]\n",
    "nbprobatest = nbmodel.predict_proba(X_test)[:,1]"
   ]
  },
  {
   "cell_type": "code",
   "execution_count": 15,
   "metadata": {
    "collapsed": false
   },
   "outputs": [
    {
     "name": "stdout",
     "output_type": "stream",
     "text": [
      "Train LASSO Logistic AUC = 0.891316\n",
      "Valid LASSO Logistic AUC = 0.862454\n",
      "Train XGBoost AUC = 0.964184\n",
      "Valid XGBoost AUC = 0.924961\n",
      "Train Naive Bayes AUC = 0.968006\n",
      "Valid Naive Bayes AUC = 0.943938\n"
     ]
    }
   ],
   "source": [
    "print(\"Train LASSO Logistic AUC = %.6f\" % roc_auc_score(y_train, glmproba))\n",
    "print(\"Valid LASSO Logistic AUC = %.6f\" % roc_auc_score(y_valid, glmprobavalid))\n",
    "\n",
    "print(\"Train XGBoost AUC = %.6f\" % roc_auc_score(y_train, xgbproba))\n",
    "print(\"Valid XGBoost AUC = %.6f\" % roc_auc_score(y_valid, xgbprobavalid))\n",
    "\n",
    "print(\"Train Naive Bayes AUC = %.6f\" % roc_auc_score(y_train, nbproba))\n",
    "print(\"Valid Naive Bayes AUC = %.6f\" % roc_auc_score(y_valid, nbprobavalid))"
   ]
  },
  {
   "cell_type": "code",
   "execution_count": 16,
   "metadata": {
    "collapsed": false
   },
   "outputs": [
    {
     "name": "stdout",
     "output_type": "stream",
     "text": [
      "Training Confusion Matrix\n",
      "[[894   0]\n",
      " [ 53 103]]\n",
      "Validation Confusion Matrix\n",
      "[[929   3]\n",
      " [ 56 102]]\n"
     ]
    }
   ],
   "source": [
    "# Confusion Matrix\n",
    "print(\"Training Confusion Matrix\")\n",
    "print(confusion_matrix(y_train, nbclass))\n",
    "print(\"Validation Confusion Matrix\")\n",
    "print(confusion_matrix(y_valid, nbclassvalid))"
   ]
  },
  {
   "cell_type": "code",
   "execution_count": 17,
   "metadata": {
    "collapsed": false
   },
   "outputs": [
    {
     "name": "stdout",
     "output_type": "stream",
     "text": [
      "Training Confusion Matrix\n",
      "[[202 692]\n",
      " [  3 153]]\n",
      "Validation Confusion Matrix\n",
      "[[212 720]\n",
      " [  6 152]]\n"
     ]
    }
   ],
   "source": [
    "# Confusion Matrix\n",
    "print(\"Training Confusion Matrix\")\n",
    "print(confusion_matrix(y_train, glmproba >= 0.5))\n",
    "print(\"Validation Confusion Matrix\")\n",
    "print(confusion_matrix(y_valid, glmprobavalid >= 0.5))"
   ]
  },
  {
   "cell_type": "code",
   "execution_count": 18,
   "metadata": {
    "collapsed": false
   },
   "outputs": [
    {
     "name": "stdout",
     "output_type": "stream",
     "text": [
      "Training Confusion Matrix\n",
      "[[  0 894]\n",
      " [  0 156]]\n",
      "Validation Confusion Matrix\n",
      "[[  0 932]\n",
      " [  0 158]]\n"
     ]
    }
   ],
   "source": [
    "# Confusion Matrix\n",
    "print(\"Training Confusion Matrix\")\n",
    "print(confusion_matrix(y_train, xgbproba >= 0.5))\n",
    "print(\"Validation Confusion Matrix\")\n",
    "print(confusion_matrix(y_valid, xgbprobavalid >= 0.5))"
   ]
  },
  {
   "cell_type": "code",
   "execution_count": 11,
   "metadata": {
    "collapsed": false
   },
   "outputs": [
    {
     "name": "stdout",
     "output_type": "stream",
     "text": [
      "Train Naive Bayes AUC = 0.954917\n",
      "Valid Naive Bayes AUC = 0.961046\n",
      "Test Naive Bayes AUC = 0.954096\n"
     ]
    }
   ],
   "source": [
    "# Choosing the model with the best performance on the validation data, which happens to be the Naive Bayes\n",
    "\n",
    "print(\"Train Naive Bayes AUC = %.6f\" % roc_auc_score(y_train, nbproba))\n",
    "print(\"Valid Naive Bayes AUC = %.6f\" % roc_auc_score(y_valid, nbprobavalid))\n",
    "print(\"Test Naive Bayes AUC = %.6f\" % roc_auc_score(y_test, nbprobatest))"
   ]
  },
  {
   "cell_type": "code",
   "execution_count": 22,
   "metadata": {
    "collapsed": false
   },
   "outputs": [
    {
     "name": "stdout",
     "output_type": "stream",
     "text": [
      "Training Confusion Matrix\n",
      "[[894   0]\n",
      " [ 53 103]]\n",
      "Validation Confusion Matrix\n",
      "[[929   3]\n",
      " [ 56 102]]\n",
      "Test Confusion Matrix\n",
      "[[992   2]\n",
      " [ 45 100]]\n"
     ]
    }
   ],
   "source": [
    "# Confusion Matrix\n",
    "print(\"Training Confusion Matrix\")\n",
    "print(confusion_matrix(y_train, nbclass))\n",
    "print(\"Validation Confusion Matrix\")\n",
    "print(confusion_matrix(y_valid, nbclassvalid))\n",
    "print(\"Test Confusion Matrix\")\n",
    "print(confusion_matrix(y_test, nbclasstest))"
   ]
  },
  {
   "cell_type": "code",
   "execution_count": 23,
   "metadata": {
    "collapsed": false
   },
   "outputs": [
    {
     "data": {
      "text/plain": [
       "['ad_classifier.pkl']"
      ]
     },
     "execution_count": 23,
     "metadata": {},
     "output_type": "execute_result"
    }
   ],
   "source": [
    "joblib.dump(nbmodel, 'ad_classifier.pkl') "
   ]
  }
 ],
 "metadata": {
  "kernelspec": {
   "display_name": "Python 2",
   "language": "python",
   "name": "python2"
  },
  "language_info": {
   "codemirror_mode": {
    "name": "ipython",
    "version": 2
   },
   "file_extension": ".py",
   "mimetype": "text/x-python",
   "name": "python",
   "nbconvert_exporter": "python",
   "pygments_lexer": "ipython2",
   "version": "2.7.10"
  }
 },
 "nbformat": 4,
 "nbformat_minor": 0
}
