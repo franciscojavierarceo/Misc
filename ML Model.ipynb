{
 "cells": [
  {
   "cell_type": "code",
   "execution_count": 110,
   "metadata": {
    "collapsed": false
   },
   "outputs": [],
   "source": [
    "import os\n",
    "import numpy as np\n",
    "import pandas as pd\n",
    "import xgboost as xgb\n",
    "import sklearn\n",
    "from sklearn.metrics import confusion_matrix\n",
    "from sklearn.externals import joblib\n",
    "from sklearn.linear_model import LassoCV\n",
    "from sklearn.naive_bayes import BernoulliNB\n",
    "from sklearn.metrics import roc_auc_score\n",
    "from sklearn.model_selection import train_test_split\n",
    "\n",
    "%matplotlib inline"
   ]
  },
  {
   "cell_type": "code",
   "execution_count": 2,
   "metadata": {
    "collapsed": true
   },
   "outputs": [],
   "source": [
    "pth = './datafiles/'\n",
    "inputfile = 'data'\n",
    "colfile = 'column.names.txt'"
   ]
  },
  {
   "cell_type": "code",
   "execution_count": 3,
   "metadata": {
    "collapsed": false
   },
   "outputs": [
    {
     "name": "stderr",
     "output_type": "stream",
     "text": [
      "//anaconda/lib/python2.7/site-packages/IPython/core/interactiveshell.py:2902: DtypeWarning: Columns (3) have mixed types. Specify dtype option on import or set low_memory=False.\n",
      "  interactivity=interactivity, compiler=compiler, result=result)\n"
     ]
    }
   ],
   "source": [
    "df1 = pd.read_csv(os.path.join(pth, inputfile), header=None)\n",
    "df2 = pd.read_csv(os.path.join(pth, colfile), sep=\":\", skiprows=0)\n",
    "df2 = df2.reset_index()\n",
    "df2.columns = ['variable', 'type']"
   ]
  },
  {
   "cell_type": "code",
   "execution_count": 4,
   "metadata": {
    "collapsed": false
   },
   "outputs": [],
   "source": [
    "df1.columns = df2['variable'].tolist() + ['ad']"
   ]
  },
  {
   "cell_type": "code",
   "execution_count": 5,
   "metadata": {
    "collapsed": false,
    "scrolled": true
   },
   "outputs": [],
   "source": [
    "for col in df1.columns:\n",
    "    if df1[col].dtype not in (float, int) and col!='ad':\n",
    "        df1.ix[df1[col].str.strip()=='?', col] = np.nan\n",
    "        df1[col] = df1[col].astype(float)"
   ]
  },
  {
   "cell_type": "code",
   "execution_count": 29,
   "metadata": {
    "collapsed": false
   },
   "outputs": [],
   "source": [
    "rans = np.random.rand(df1.shape[0]) \n",
    "trainfilt = rans <= 0.33\n",
    "validfilt = (rans > 0.33) & (rans <= 0.66)\n",
    "testfilt = rans > 0.66"
   ]
  },
  {
   "cell_type": "code",
   "execution_count": 7,
   "metadata": {
    "collapsed": true
   },
   "outputs": [],
   "source": [
    "for col in df1.columns:\n",
    "    if df1[col].dtype in (float, int) and col!='ad':\n",
    "        df1[col+'missing'] = df1[col].isnull().astype(int)\n",
    "        if df1[col].nunique() ==2:\n",
    "            df1[col] = df1[col].fillna(0)\n",
    "        else:\n",
    "            meanval = df1.ix[df1[col].notnull() & trainfilt, col].mean()\n",
    "            df1[col] = df1[col].fillna(meanval)"
   ]
  },
  {
   "cell_type": "code",
   "execution_count": 44,
   "metadata": {
    "collapsed": false
   },
   "outputs": [],
   "source": [
    "ys = (df1['ad'].str.strip() == 'ad.' ).astype(int).values\n",
    "xcols = [col for col in df1.columns if col !='ad']\n",
    "X_train, X_valid, X_test = df1.ix[trainfilt, xcols].values, df1.ix[validfilt, xcols].values, df1.ix[testfilt, xcols].values\n",
    "y_train, y_valid, y_test = ys[trainfilt], ys[validfilt], ys[testfilt]"
   ]
  },
  {
   "cell_type": "code",
   "execution_count": 95,
   "metadata": {
    "collapsed": false
   },
   "outputs": [],
   "source": [
    "dtrain = xgb.DMatrix(X_train, label=y_train)\n",
    "dvalid  = xgb.DMatrix(X_valid, label=y_valid)\n",
    "dtest  = xgb.DMatrix(X_test, label=y_test)"
   ]
  },
  {
   "cell_type": "code",
   "execution_count": 96,
   "metadata": {
    "collapsed": false
   },
   "outputs": [],
   "source": [
    "param = {'max_depth':2, 'eta': 1, 'silent':1, 'objective':'binary:logistic'}\n",
    "model = xgb.train(param, dtrain, num_boost_round=10)\n",
    "\n",
    "xgbpred = model.predict(dtrain)\n",
    "xgbproba = 1/ (1. + np.exp( - model.predict(dtrain) ))\n",
    "\n",
    "xgbpredvalid = model.predict(dvalid)\n",
    "xgbprobavalid = 1/ (1. + np.exp( - model.predict(dvalid) ))"
   ]
  },
  {
   "cell_type": "code",
   "execution_count": 47,
   "metadata": {
    "collapsed": false
   },
   "outputs": [
    {
     "data": {
      "text/plain": [
       "LassoCV(alphas=None, copy_X=True, cv=None, eps=0.001, fit_intercept=True,\n",
       "    max_iter=1000, n_alphas=100, n_jobs=1, normalize=False, positive=False,\n",
       "    precompute='auto', random_state=None, selection='cyclic', tol=0.0001,\n",
       "    verbose=False)"
      ]
     },
     "execution_count": 47,
     "metadata": {},
     "output_type": "execute_result"
    }
   ],
   "source": [
    "glmmodel  = LassoCV()\n",
    "glmmodel.fit(X_train, y_train)"
   ]
  },
  {
   "cell_type": "code",
   "execution_count": 91,
   "metadata": {
    "collapsed": false
   },
   "outputs": [],
   "source": [
    "glmpred = glmmodel.predict(X_train)\n",
    "glmproba = 1/ (1. + np.exp( - glmpred ))\n",
    "\n",
    "glmpredvalid = glmmodel.predict(X_valid)\n",
    "glmprobavalid = 1/ (1. + np.exp( - glmpredvalid ))"
   ]
  },
  {
   "cell_type": "code",
   "execution_count": 49,
   "metadata": {
    "collapsed": false
   },
   "outputs": [
    {
     "data": {
      "text/plain": [
       "BernoulliNB(alpha=1.0, binarize=0.0, class_prior=None, fit_prior=True)"
      ]
     },
     "execution_count": 49,
     "metadata": {},
     "output_type": "execute_result"
    }
   ],
   "source": [
    "nbmodel = BernoulliNB() \n",
    "nbmodel.fit(X_train, y_train)"
   ]
  },
  {
   "cell_type": "code",
   "execution_count": 102,
   "metadata": {
    "collapsed": false
   },
   "outputs": [],
   "source": [
    "nbclass = nbmodel.predict(X_train)  \n",
    "nbclassvalid = nbmodel.predict(X_valid)\n",
    "\n",
    "nbproba = nbmodel.predict_proba(X_train)[:,1]\n",
    "nbprobavalid = nbmodel.predict_proba(X_valid)[:,1]\n",
    "nbprobatest = nbmodel.predict_proba(X_test)[:,1]"
   ]
  },
  {
   "cell_type": "code",
   "execution_count": 98,
   "metadata": {
    "collapsed": false
   },
   "outputs": [
    {
     "name": "stdout",
     "output_type": "stream",
     "text": [
      "Train LASSO Logistic AUC = 0.883916\n",
      "Valid LASSO Logistic AUC = 0.889502\n",
      "Train XGBoost AUC = 0.978075\n",
      "Valid XGBoost AUC = 0.966410\n",
      "Train Naive Bayes AUC = 0.968103\n",
      "Valid Naive Bayes AUC = 0.959572\n"
     ]
    }
   ],
   "source": [
    "print(\"Train LASSO Logistic AUC = %.6f\" % roc_auc_score(y_train, glmproba))\n",
    "print(\"Valid LASSO Logistic AUC = %.6f\" % roc_auc_score(y_valid, glmprobavalid))\n",
    "\n",
    "print(\"Train XGBoost AUC = %.6f\" % roc_auc_score(y_train, xgbproba))\n",
    "print(\"Valid XGBoost AUC = %.6f\" % roc_auc_score(y_valid, xgbprobavalid))\n",
    "\n",
    "print(\"Train Naive Bayes AUC = %.6f\" % roc_auc_score(y_train, nbproba))\n",
    "print(\"Valid Naive Bayes AUC = %.6f\" % roc_auc_score(y_valid, nbprobavalid))"
   ]
  },
  {
   "cell_type": "code",
   "execution_count": 114,
   "metadata": {
    "collapsed": false
   },
   "outputs": [
    {
     "name": "stdout",
     "output_type": "stream",
     "text": [
      "Training Confusion Matrix\n",
      "[[930   0]\n",
      " [ 52 103]]\n",
      "Validation Confusion Matrix\n",
      "[[926   2]\n",
      " [ 45  98]]\n"
     ]
    }
   ],
   "source": [
    "# Confusion Matrix\n",
    "print(\"Training Confusion Matrix\")\n",
    "print(confusion_matrix(y_train, nbclass))\n",
    "print(\"Validation Confusion Matrix\")\n",
    "print(confusion_matrix(y_valid, nbclassvalid))"
   ]
  },
  {
   "cell_type": "code",
   "execution_count": 115,
   "metadata": {
    "collapsed": false
   },
   "outputs": [
    {
     "name": "stdout",
     "output_type": "stream",
     "text": [
      "Training Confusion Matrix\n",
      "[[220 710]\n",
      " [  2 153]]\n",
      "Validation Confusion Matrix\n",
      "[[207 721]\n",
      " [  4 139]]\n"
     ]
    }
   ],
   "source": [
    "# Confusion Matrix\n",
    "print(\"Training Confusion Matrix\")\n",
    "print(confusion_matrix(y_train, glmproba >= 0.5))\n",
    "print(\"Validation Confusion Matrix\")\n",
    "print(confusion_matrix(y_valid, glmprobavalid >= 0.5))"
   ]
  },
  {
   "cell_type": "code",
   "execution_count": 116,
   "metadata": {
    "collapsed": false
   },
   "outputs": [
    {
     "name": "stdout",
     "output_type": "stream",
     "text": [
      "Training Confusion Matrix\n",
      "[[  0 930]\n",
      " [  0 155]]\n",
      "Validation Confusion Matrix\n",
      "[[  0 928]\n",
      " [  0 143]]\n"
     ]
    }
   ],
   "source": [
    "# Confusion Matrix\n",
    "print(\"Training Confusion Matrix\")\n",
    "print(confusion_matrix(y_train, xgbproba >= 0.5))\n",
    "print(\"Validation Confusion Matrix\")\n",
    "print(confusion_matrix(y_valid, xgbprobavalid >= 0.5))"
   ]
  },
  {
   "cell_type": "code",
   "execution_count": 104,
   "metadata": {
    "collapsed": false
   },
   "outputs": [
    {
     "name": "stdout",
     "output_type": "stream",
     "text": [
      "Train Naive Bayes AUC = 0.968103\n",
      "Valid Naive Bayes AUC = 0.959572\n",
      "Test Naive Bayes AUC = 0.947379\n"
     ]
    }
   ],
   "source": [
    "# Choosing the model with the best performance on the validation data\n",
    "\n",
    "print(\"Train Naive Bayes AUC = %.6f\" % roc_auc_score(y_train, nbproba))\n",
    "print(\"Valid Naive Bayes AUC = %.6f\" % roc_auc_score(y_valid, nbprobavalid))\n",
    "print(\"Test Naive Bayes AUC = %.6f\" % roc_auc_score(y_test, nbprobatest))"
   ]
  },
  {
   "cell_type": "code",
   "execution_count": 118,
   "metadata": {
    "collapsed": false
   },
   "outputs": [
    {
     "name": "stdout",
     "output_type": "stream",
     "text": [
      "Training Confusion Matrix\n",
      "[[930   0]\n",
      " [ 52 103]]\n",
      "Validation Confusion Matrix\n",
      "[[926   2]\n",
      " [ 45  98]]\n",
      "Test Confusion Matrix\n",
      "[[958   4]\n",
      " [ 58 103]]\n"
     ]
    }
   ],
   "source": [
    "# Confusion Matrix\n",
    "print(\"Training Confusion Matrix\")\n",
    "print(confusion_matrix(y_train, nbclass))\n",
    "print(\"Validation Confusion Matrix\")\n",
    "print(confusion_matrix(y_valid, nbclassvalid))\n",
    "print(\"Test Confusion Matrix\")\n",
    "print(confusion_matrix(y_test, nbclasstest))"
   ]
  },
  {
   "cell_type": "code",
   "execution_count": 107,
   "metadata": {
    "collapsed": false
   },
   "outputs": [
    {
     "data": {
      "text/plain": [
       "['ad_classifier.pkl']"
      ]
     },
     "execution_count": 107,
     "metadata": {},
     "output_type": "execute_result"
    }
   ],
   "source": [
    "joblib.dump(nbmodel, 'ad_classifier.pkl') "
   ]
  }
 ],
 "metadata": {
  "kernelspec": {
   "display_name": "Python 2",
   "language": "python",
   "name": "python2"
  },
  "language_info": {
   "codemirror_mode": {
    "name": "ipython",
    "version": 2
   },
   "file_extension": ".py",
   "mimetype": "text/x-python",
   "name": "python",
   "nbconvert_exporter": "python",
   "pygments_lexer": "ipython2",
   "version": "2.7.10"
  }
 },
 "nbformat": 4,
 "nbformat_minor": 0
}
