{
 "cells": [
  {
   "cell_type": "markdown",
   "metadata": {},
   "source": [
    "# Problem\n",
    "Using a dataset of past advertisements on the Internet, can we accurately predict what image will be an advertisement based on attributes of that image?\n",
    "\n",
    "# Project\n",
    "The features encode the geometry of the image (if available) as well as phrases occurring in the URL, \n",
    "the image's URL and alt text, the anchor text, and words occurring near the anchor text.\n",
    "\n",
    "Number of Instances: 3,279 (2,821 non ads, 458 ads)\n",
    "Number of Attributes: 1,558 (3 continous; others binary)\n",
    "\n",
    "28% of instances are missing some of the continuous attributes.\n",
    "\n",
    "Missing values should be interpreted as \"unknown\"\n",
    "\n",
    "Class Distribution- number of instances per class: 2,821 non ads, 458 ads.\n",
    "\n",
    "The task is to predict whether an image is an advertisement (\"ad\") or not (\"non ad\").\n",
    "\n",
    "Deliverables\n",
    "\n",
    "Please send us the following:\n",
    "\n",
    "Code, and associated files, used for the project. You can send us a zipfile, or upload the project to a public github repo.\n",
    "\n",
    "The algorithm you developed to make your predictions\n",
    "\n",
    "How we can run the algorithm on a test data set\n",
    "\n",
    "The process you used to analyze the data and came to your conclusions"
   ]
  },
  {
   "cell_type": "code",
   "execution_count": 77,
   "metadata": {
    "collapsed": false
   },
   "outputs": [],
   "source": [
    "import os\n",
    "import numpy as np\n",
    "import pandas as pd\n",
    "import xgboost as xgb\n",
    "import sklearn\n",
    "from sklearn.linear_model import LassoCV\n",
    "from sklearn.metrics import roc_auc_score\n",
    "from sklearn.model_selection import train_test_split\n",
    "\n",
    "%matplotlib inline"
   ]
  },
  {
   "cell_type": "code",
   "execution_count": 2,
   "metadata": {
    "collapsed": true
   },
   "outputs": [],
   "source": [
    "pth = './datafiles/'\n",
    "inputfile = 'data'\n",
    "colfile = 'column.names.txt'"
   ]
  },
  {
   "cell_type": "code",
   "execution_count": 31,
   "metadata": {
    "collapsed": false
   },
   "outputs": [],
   "source": [
    "df1 = pd.read_csv(os.path.join(pth, inputfile), header=None)\n",
    "df2 = pd.read_csv(os.path.join(pth, colfile), sep=\":\", skiprows=0)\n",
    "df2 = df2.reset_index()\n",
    "df2.columns = ['variable', 'type']"
   ]
  },
  {
   "cell_type": "code",
   "execution_count": 33,
   "metadata": {
    "collapsed": false
   },
   "outputs": [],
   "source": [
    "df1.columns = df2['variable'].tolist() + ['ad']"
   ]
  },
  {
   "cell_type": "code",
   "execution_count": 44,
   "metadata": {
    "collapsed": false,
    "scrolled": true
   },
   "outputs": [],
   "source": [
    "for col in df1.columns:\n",
    "    if df1[col].dtype not in (float, int) and col!='ad':\n",
    "        df1.ix[df1[col].str.strip()=='?', col] = np.nan\n",
    "        df1[col] = df1[col].astype(float)"
   ]
  },
  {
   "cell_type": "code",
   "execution_count": 190,
   "metadata": {
    "collapsed": false
   },
   "outputs": [],
   "source": [
    "rans = np.random.rand(df1.shape[0]) \n",
    "trainfilt = rans <= 0.33\n",
    "validfilt = (rans > 0.33) & (rans <= 0.66)\n",
    "testfilt = rans > 0.66"
   ]
  },
  {
   "cell_type": "code",
   "execution_count": 191,
   "metadata": {
    "collapsed": true
   },
   "outputs": [],
   "source": [
    "for col in df1.columns:\n",
    "    if df1[col].dtype in (float, int) and col!='ad':\n",
    "        df1[col+'missing'] = df1[col].isnull().astype(int)\n",
    "        if df1[col].nunique() ==2:\n",
    "            df1[col] = df1[col].fillna(0)\n",
    "        else:\n",
    "            meanval = df1.ix[df1[col].notnull() & trainfilt, col].mean()\n",
    "            df1[col] = df1[col].fillna(meanval)"
   ]
  },
  {
   "cell_type": "code",
   "execution_count": 207,
   "metadata": {
    "collapsed": false
   },
   "outputs": [],
   "source": [
    "ys = (df1['ad']=='ad').astype(int).values\n",
    "xcols = [col for col in df1.columns if col !='ad']\n",
    "X_train, X_valid, X_test = df1.ix[trainfilt, xcols].values, df1.ix[validfilt, xcols].values, df1.ix[testfilt, xcols].values\n",
    "y_train, y_valid, y_test = ys[trainfilt], ys[validfilt], ys[testfilt]"
   ]
  },
  {
   "cell_type": "code",
   "execution_count": 208,
   "metadata": {
    "collapsed": false
   },
   "outputs": [],
   "source": [
    "dtrain = xgb.DMatrix(X_train, label=y_train)\n",
    "dvalid  = xgb.DMatrix(X_test, label=y_valid)\n",
    "dtest  = xgb.DMatrix(X_test, label=y_test)"
   ]
  },
  {
   "cell_type": "code",
   "execution_count": 167,
   "metadata": {
    "collapsed": false
   },
   "outputs": [],
   "source": [
    "param = {'max_depth':2, 'eta': 1, 'silent':1, 'objective':'binary:logistic'}\n",
    "model = xgb.train(param, dtrain, num_boost_round=10)\n",
    "\n",
    "xgbpred = model.predict(dtrain)\n",
    "xgbproba = 1/ (1. + np.exp( - model.predict(dtrain) ))\n",
    "\n",
    "xgbpredtest = model.predict(dtest)\n",
    "xgbprobatest = 1/ (1. + np.exp( - model.predict(dtest) ))"
   ]
  },
  {
   "cell_type": "code",
   "execution_count": 172,
   "metadata": {
    "collapsed": false
   },
   "outputs": [],
   "source": [
    "glmmodel  = LassoCV()\n",
    "glmmodel.fit(X_train, y_train)"
   ]
  },
  {
   "cell_type": "code",
   "execution_count": 174,
   "metadata": {
    "collapsed": true
   },
   "outputs": [],
   "source": [
    "glmpred = model.predict(X_train)\n",
    "glmproba = 1/ (1. + np.exp( - glmpred ))\n",
    "\n",
    "glmpredtest = model.predict(X_test)\n",
    "glmprobatest = 1/ (1. + np.exp( - glmpredtest ))"
   ]
  },
  {
   "cell_type": "code",
   "execution_count": 175,
   "metadata": {
    "collapsed": false
   },
   "outputs": [
    {
     "name": "stdout",
     "output_type": "stream",
     "text": [
      "col_0  False  True \n",
      "row_0              \n",
      "0        263   1195\n",
      "1         10    209\n",
      "AUC = 0.870\n"
     ]
    }
   ],
   "source": [
    "# Confusion Matrix\n",
    "print(pd.crosstab(y_train, glmproba >= .5))\n",
    "\n",
    "print(\"AUC = %.3f\" % roc_auc_score(y_train, proba))"
   ]
  },
  {
   "cell_type": "code",
   "execution_count": 176,
   "metadata": {
    "collapsed": false
   },
   "outputs": [],
   "source": [
    "fullpred  = (xgbpred + pred)/2.\n",
    "fullproba = 1/ (1. + np.exp( - fullpred ))"
   ]
  },
  {
   "cell_type": "code",
   "execution_count": 177,
   "metadata": {
    "collapsed": false
   },
   "outputs": [
    {
     "name": "stdout",
     "output_type": "stream",
     "text": [
      "col_0  False  True \n",
      "row_0              \n",
      "0        166   1292\n",
      "1          0    219\n",
      "AUC = 0.960\n"
     ]
    }
   ],
   "source": [
    "# Confusion Matrix\n",
    "print(pd.crosstab(y_train, fullproba >= .5))\n",
    "\n",
    "print(\"AUC = %.3f\" % roc_auc_score(y_train, fullproba))"
   ]
  },
  {
   "cell_type": "code",
   "execution_count": 160,
   "metadata": {
    "collapsed": false
   },
   "outputs": [
    {
     "data": {
      "text/plain": [
       "BernoulliNB(alpha=1.0, binarize=0.0, class_prior=None, fit_prior=True)"
      ]
     },
     "execution_count": 160,
     "metadata": {},
     "output_type": "execute_result"
    }
   ],
   "source": [
    "from sklearn.naive_bayes import BernoulliNB\n",
    "clf = BernoulliNB()\n",
    "clf.fit(X_train, y_train)\n",
    "BernoulliNB(alpha=1.0, binarize=0.0, class_prior=None, fit_prior=True)"
   ]
  },
  {
   "cell_type": "code",
   "execution_count": 178,
   "metadata": {
    "collapsed": true
   },
   "outputs": [],
   "source": [
    "nbclass = clf.predict(X_train)  \n",
    "nbclasstest = clf.predict(X_test)"
   ]
  },
  {
   "cell_type": "code",
   "execution_count": 182,
   "metadata": {
    "collapsed": false
   },
   "outputs": [
    {
     "name": "stdout",
     "output_type": "stream",
     "text": [
      "col_0     0    1\n",
      "row_0           \n",
      "0      1451    7\n",
      "1        57  162\n",
      "col_0     0    1\n",
      "row_0           \n",
      "0      1357    5\n",
      "1        54  186\n"
     ]
    }
   ],
   "source": [
    "# Confusion Matrix\n",
    "print(pd.crosstab(y_train, nbclass))\n",
    "print(pd.crosstab(y_test, nbclasstest ))"
   ]
  },
  {
   "cell_type": "code",
   "execution_count": 184,
   "metadata": {
    "collapsed": false
   },
   "outputs": [
    {
     "data": {
      "text/plain": [
       "array([ 0.70922805,  0.64847951,  0.64847951, ...,  0.48652719,\n",
       "        0.52276597,  0.52730148])"
      ]
     },
     "execution_count": 184,
     "metadata": {},
     "output_type": "execute_result"
    }
   ],
   "source": [
    "glmprobatest"
   ]
  },
  {
   "cell_type": "code",
   "execution_count": 185,
   "metadata": {
    "collapsed": false
   },
   "outputs": [
    {
     "name": "stdout",
     "output_type": "stream",
     "text": [
      "col_0  False  True \n",
      "row_0              \n",
      "0        263   1195\n",
      "1         10    209\n",
      "col_0  False  True \n",
      "row_0              \n",
      "0        258   1104\n",
      "1          2    238\n"
     ]
    }
   ],
   "source": [
    "# Confusion Matrix\n",
    "print(pd.crosstab(y_train, glmproba >= 0.5))\n",
    "print(pd.crosstab(y_test, glmprobatest >= 0.5 ))"
   ]
  },
  {
   "cell_type": "code",
   "execution_count": 186,
   "metadata": {
    "collapsed": false
   },
   "outputs": [
    {
     "name": "stdout",
     "output_type": "stream",
     "text": [
      "col_0  True\n",
      "row_0      \n",
      "0      1458\n",
      "1       219\n",
      "col_0  True\n",
      "row_0      \n",
      "0      1362\n",
      "1       240\n"
     ]
    }
   ],
   "source": [
    "# Confusion Matrix\n",
    "print(pd.crosstab(y_train, xgbproba >= 0.5))\n",
    "print(pd.crosstab(y_test, xgbprobatest >= 0.5 ))"
   ]
  },
  {
   "cell_type": "code",
   "execution_count": null,
   "metadata": {
    "collapsed": true
   },
   "outputs": [],
   "source": []
  }
 ],
 "metadata": {
  "kernelspec": {
   "display_name": "Python 2",
   "language": "python",
   "name": "python2"
  },
  "language_info": {
   "codemirror_mode": {
    "name": "ipython",
    "version": 2
   },
   "file_extension": ".py",
   "mimetype": "text/x-python",
   "name": "python",
   "nbconvert_exporter": "python",
   "pygments_lexer": "ipython2",
   "version": "2.7.10"
  }
 },
 "nbformat": 4,
 "nbformat_minor": 0
}
