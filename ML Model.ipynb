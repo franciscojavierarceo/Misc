{
 "cells": [
  {
   "cell_type": "markdown",
   "metadata": {},
   "source": [
    "# Problem\n",
    "Using a dataset of past advertisements on the Internet, can we accurately predict what image will be an advertisement based on attributes of that image?\n",
    "\n",
    "# Project\n",
    "The features encode the geometry of the image (if available) as well as phrases occurring in the URL, \n",
    "the image's URL and alt text, the anchor text, and words occurring near the anchor text.\n",
    "\n",
    "Number of Instances: 3,279 (2,821 non ads, 458 ads)\n",
    "Number of Attributes: 1,558 (3 continous; others binary)\n",
    "\n",
    "28% of instances are missing some of the continuous attributes.\n",
    "Missing values should be interpreted as \"unknown\"\n",
    "Class Distribution- number of instances per class: 2,821 non ads, 458 ads.\n",
    "\n",
    "The task is to predict whether an image is an advertisement (\"ad\") or not (\"non ad\").\n",
    "\n",
    "Deliverables\n",
    "Please send us the following:\n",
    "Code, and associated files, used for the project. You can send us a zipfile, or upload the project to a public github repo.\n",
    "The algorithm you developed to make your predictions\n",
    "How we can run the algorithm on a test data set\n",
    "The process you used to analyze the data and came to your conclusions"
   ]
  },
  {
   "cell_type": "code",
   "execution_count": 180,
   "metadata": {
    "collapsed": false
   },
   "outputs": [],
   "source": [
    "import os\n",
    "import numpy as np\n",
    "import pandas as pd\n",
    "import sklearn\n",
    "from sklearn.model_selection import train_test_split"
   ]
  },
  {
   "cell_type": "code",
   "execution_count": 2,
   "metadata": {
    "collapsed": true
   },
   "outputs": [],
   "source": [
    "pth = './datafiles/'\n",
    "inputfile = 'data'\n",
    "colfile = 'column.names.txt'"
   ]
  },
  {
   "cell_type": "code",
   "execution_count": 167,
   "metadata": {
    "collapsed": false
   },
   "outputs": [],
   "source": [
    "df1 = pd.read_csv(os.path.join(pth, inputfile), header=None)\n",
    "df2 = pd.read_csv(os.path.join(pth, colfile), sep=\":\", skiprows=0)\n",
    "df2 = df2.reset_index()\n",
    "df2.columns = ['variable', 'type']"
   ]
  },
  {
   "cell_type": "code",
   "execution_count": 152,
   "metadata": {
    "collapsed": true
   },
   "outputs": [],
   "source": [
    "def ValidateNumeric(df, col):\n",
    "    coldic = dict( (x, int(x)) if str(x).isdigit() else (x, np.nan) for x in df[col].unique() )\n",
    "    for k in coldic:\n",
    "        df.ix[df[col] == k, col] = coldic[k] \n",
    "\n",
    "    df[col] = df[col].astype(float)"
   ]
  },
  {
   "cell_type": "code",
   "execution_count": 174,
   "metadata": {
    "collapsed": false
   },
   "outputs": [],
   "source": [
    "# df2['variable'] = df2['variable'].str.replace(\"[^A-Za-z0-9]+\", \"_\")\n",
    "df1.columns = df2['variable'].tolist() + ['ad']\n",
    "continousvars = df2.ix[df2['type'].str.strip() == 'continuous.', 'variable'].tolist() + ['ad']"
   ]
  },
  {
   "cell_type": "code",
   "execution_count": 175,
   "metadata": {
    "collapsed": false,
    "scrolled": true
   },
   "outputs": [],
   "source": [
    "for col in df1.columns:\n",
    "    if col not in continousvars:\n",
    "        ValidateNumeric(df1, col)"
   ]
  },
  {
   "cell_type": "code",
   "execution_count": null,
   "metadata": {
    "collapsed": true
   },
   "outputs": [],
   "source": []
  },
  {
   "cell_type": "code",
   "execution_count": 176,
   "metadata": {
    "collapsed": false,
    "scrolled": true
   },
   "outputs": [],
   "source": [
    "xcols = [x for x in df1.columns if x!='ad']\n",
    "xs = df1[xcols]\n",
    "ys = df1['ad']=='ad.'"
   ]
  },
  {
   "cell_type": "code",
   "execution_count": 181,
   "metadata": {
    "collapsed": false
   },
   "outputs": [],
   "source": [
    "X_train, X_test, y_train, y_test = sklearn.model_selection.train_test_split(\n",
    "                                        xs, ys, test_size=0.33, random_state=420)"
   ]
  },
  {
   "cell_type": "code",
   "execution_count": null,
   "metadata": {
    "collapsed": true
   },
   "outputs": [],
   "source": []
  }
 ],
 "metadata": {
  "kernelspec": {
   "display_name": "Python 2",
   "language": "python",
   "name": "python2"
  },
  "language_info": {
   "codemirror_mode": {
    "name": "ipython",
    "version": 2
   },
   "file_extension": ".py",
   "mimetype": "text/x-python",
   "name": "python",
   "nbconvert_exporter": "python",
   "pygments_lexer": "ipython2",
   "version": "2.7.10"
  }
 },
 "nbformat": 4,
 "nbformat_minor": 0
}
